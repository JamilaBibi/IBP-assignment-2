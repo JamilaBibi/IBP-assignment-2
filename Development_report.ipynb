{
  "nbformat": 4,
  "nbformat_minor": 0,
  "metadata": {
    "colab": {
      "provenance": [],
      "authorship_tag": "ABX9TyO0F4TaNxI5mpgVU9/BtjKI",
      "include_colab_link": true
    },
    "kernelspec": {
      "name": "python3",
      "display_name": "Python 3"
    },
    "language_info": {
      "name": "python"
    }
  },
  "cells": [
    {
      "cell_type": "markdown",
      "metadata": {
        "id": "view-in-github",
        "colab_type": "text"
      },
      "source": [
        "<a href=\"https://colab.research.google.com/github/JamilaBibi/IBP-assignment-2/blob/main/Development_report.ipynb\" target=\"_parent\"><img src=\"https://colab.research.google.com/assets/colab-badge.svg\" alt=\"Open In Colab\"/></a>"
      ]
    },
    {
      "cell_type": "markdown",
      "source": [
        "# Downloading Enron Email Data"
      ],
      "metadata": {
        "id": "9J5BwQzPXuNq"
      }
    },
    {
      "cell_type": "code",
      "source": [
        "#using the wget! command to download the enron.db file\n",
        "#Set the output file as enron.db\n",
        "#using the URL of the enron.db"
      ],
      "metadata": {
        "id": "22Y7XR84YDze"
      },
      "execution_count": null,
      "outputs": []
    },
    {
      "cell_type": "markdown",
      "source": [
        "# Establish connection to the SQlite database"
      ],
      "metadata": {
        "id": "LxgnOdZSZyQ2"
      }
    },
    {
      "cell_type": "code",
      "source": [
        "#import sqlite3 module to connect with SQlite database"
      ],
      "metadata": {
        "id": "YruKAgY1Y5LX"
      },
      "execution_count": null,
      "outputs": []
    },
    {
      "cell_type": "code",
      "source": [
        "#Create a connection between enron.db and the SQlite module using sqlite.connect() function\n",
        "#Save the above connection in the variable \"conn\""
      ],
      "metadata": {
        "id": "kdItPfQOZWsi"
      },
      "execution_count": 2,
      "outputs": []
    },
    {
      "cell_type": "code",
      "source": [
        "# Create a cursor function for executing SQL queries on the database\n",
        "#Create a cursor function using the `conn.cursor()` method\n",
        "#Save the cursor function in the variable \"cur\""
      ],
      "metadata": {
        "id": "wVayK7BDa8R1"
      },
      "execution_count": null,
      "outputs": []
    },
    {
      "cell_type": "markdown",
      "source": [
        "# Check Schema of database"
      ],
      "metadata": {
        "id": "5KqQbz87d58i"
      }
    },
    {
      "cell_type": "code",
      "source": [
        "#Write an SQL query to retrive data from the enron.db database\n",
        "##\"SELECT name FROM sqlite_master WHERE type='table';\"\n",
        "#Execute the SQL query using a cursor function 'cur' \n",
        "#fetch all the results using cur.fetchall() method"
      ],
      "metadata": {
        "id": "s8C3ZzmLd-fI"
      },
      "execution_count": null,
      "outputs": []
    },
    {
      "cell_type": "markdown",
      "source": [
        "# Check Schema of tables"
      ],
      "metadata": {
        "id": "WqhxxiPwhjL0"
      }
    },
    {
      "cell_type": "code",
      "source": [
        "#Write an SQL query using the SQlite PRAGMA command\n",
        "#Insert table name \"employeelist\" into the PRAGMA command\n",
        "#Execute the SQL query using a cursor function 'cur'.\n",
        "#Fetch all the results using cur.fetchall() method."
      ],
      "metadata": {
        "id": "U_xYcdKjfwzq"
      },
      "execution_count": null,
      "outputs": []
    }
  ]
}