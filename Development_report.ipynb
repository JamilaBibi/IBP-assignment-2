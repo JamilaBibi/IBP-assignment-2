{
  "nbformat": 4,
  "nbformat_minor": 0,
  "metadata": {
    "colab": {
      "provenance": [],
      "authorship_tag": "ABX9TyOhEYXn36ReqqtFxzEjXvP3",
      "include_colab_link": true
    },
    "kernelspec": {
      "name": "python3",
      "display_name": "Python 3"
    },
    "language_info": {
      "name": "python"
    }
  },
  "cells": [
    {
      "cell_type": "markdown",
      "metadata": {
        "id": "view-in-github",
        "colab_type": "text"
      },
      "source": [
        "<a href=\"https://colab.research.google.com/github/JamilaBibi/IBP-assignment-2/blob/main/Development_report.ipynb\" target=\"_parent\"><img src=\"https://colab.research.google.com/assets/colab-badge.svg\" alt=\"Open In Colab\"/></a>"
      ]
    },
    {
      "cell_type": "markdown",
      "source": [
        "# Downloading Enron Email Data"
      ],
      "metadata": {
        "id": "9J5BwQzPXuNq"
      }
    },
    {
      "cell_type": "code",
      "source": [
        "#using the wget! command to download the enron.db file\n",
        "#Set the output file as enron.db\n",
        "#using the URL of the enron.db"
      ],
      "metadata": {
        "id": "v8pNr5-GNV4G"
      },
      "execution_count": null,
      "outputs": []
    },
    {
      "cell_type": "markdown",
      "source": [
        "# Establish connection to the SQlite database"
      ],
      "metadata": {
        "id": "LxgnOdZSZyQ2"
      }
    },
    {
      "cell_type": "code",
      "source": [
        "#import sqlite3 module to connect with SQlite database"
      ],
      "metadata": {
        "id": "YruKAgY1Y5LX"
      },
      "execution_count": null,
      "outputs": []
    },
    {
      "cell_type": "code",
      "source": [
        "#Create a connection between enron.db and the SQlite module using sqlite.connect() function\n",
        "#Save the above connection in the variable \"conn\""
      ],
      "metadata": {
        "id": "kdItPfQOZWsi"
      },
      "execution_count": null,
      "outputs": []
    },
    {
      "cell_type": "code",
      "source": [
        "# Create a cursor function for executing SQL queries on the database\n",
        "#Create a cursor function using the `conn.cursor()` method\n",
        "#Save the cursor function in the variable \"cur\""
      ],
      "metadata": {
        "id": "wVayK7BDa8R1"
      },
      "execution_count": null,
      "outputs": []
    },
    {
      "cell_type": "markdown",
      "source": [
        "# Check Schema of database"
      ],
      "metadata": {
        "id": "5KqQbz87d58i"
      }
    },
    {
      "cell_type": "code",
      "source": [
        "#Write an SQL query to retrive data from the enron.db database\n",
        "##\"SELECT name FROM sqlite_master WHERE type='table';\"\n",
        "#Execute the SQL query using a cursor function 'cur' \n",
        "#fetch all the results using cur.fetchall() method"
      ],
      "metadata": {
        "id": "s8C3ZzmLd-fI"
      },
      "execution_count": null,
      "outputs": []
    },
    {
      "cell_type": "markdown",
      "source": [
        "# Check Schema of tables"
      ],
      "metadata": {
        "id": "WqhxxiPwhjL0"
      }
    },
    {
      "cell_type": "code",
      "source": [
        "#Write an SQL query using the SQlite PRAGMA command\n",
        "#Insert table name \"employeelist\"/ \"message\"/ \"recipientinfo\"/\"referenceinfo\" into the PRAGMA command\n",
        "#Execute the SQL query using a cursor function 'cur'.\n",
        "#Fetch all the results using cur.fetchall() method."
      ],
      "metadata": {
        "id": "U_xYcdKjfwzq"
      },
      "execution_count": null,
      "outputs": []
    },
    {
      "cell_type": "markdown",
      "source": [
        "# Email Traffic Overtime"
      ],
      "metadata": {
        "id": "9G-xercou-l6"
      }
    },
    {
      "cell_type": "markdown",
      "source": [
        "Import Libraries:"
      ],
      "metadata": {
        "id": "Mot_9ciVxZMj"
      }
    },
    {
      "cell_type": "code",
      "source": [
        "#import pandas library to read SQL queries and convert to dataframe\n",
        "#represent pandas pandas as 'pd' as an alias"
      ],
      "metadata": {
        "id": "0gQDFAtRvERI"
      },
      "execution_count": null,
      "outputs": []
    },
    {
      "cell_type": "code",
      "source": [
        "#import seaborn library for more informative statistical visualisation/graphics\n",
        "#represent seaborn as 'sns' as an alias"
      ],
      "metadata": {
        "id": "crgQzwDbyFL3"
      },
      "execution_count": null,
      "outputs": []
    },
    {
      "cell_type": "code",
      "source": [
        "#Import the `matplotlib.pyplot` module to generate visualisation\n",
        "#give an alias 'plt' to the `matplotlib.pyplot` module"
      ],
      "metadata": {
        "id": "nSrR25J0zPnJ"
      },
      "execution_count": null,
      "outputs": []
    },
    {
      "cell_type": "markdown",
      "source": [
        "Check whether the data column in Message contain null values"
      ],
      "metadata": {
        "id": "E5qoo-Db1Euq"
      }
    },
    {
      "cell_type": "code",
      "source": [
        "#write an sql query which include the selection of 'date' column from 'message' table and store it in variable sql"
      ],
      "metadata": {
        "id": "bgY3j_nh1RUt"
      },
      "execution_count": null,
      "outputs": []
    },
    {
      "cell_type": "markdown",
      "source": [
        "convert to dataframe"
      ],
      "metadata": {
        "id": "qYkZkZ3v2iGS"
      }
    },
    {
      "cell_type": "code",
      "source": [
        "#import pandas library to read sql query\n",
        "#use the function 'read_sql_query()' from the pandas module\n",
        "#as parameters, make use of SQL query's variable 'sql' and the variable 'conn' which makes database connection \n",
        "#save the 'read_sql_query()' function and its parameters to the variable 'message_df'\n",
        "#show the contents of the Dataframe 'message_df'"
      ],
      "metadata": {
        "id": "lrEyVnqp1y1S"
      },
      "execution_count": null,
      "outputs": []
    },
    {
      "cell_type": "markdown",
      "source": [
        "Counting number of emails per day"
      ],
      "metadata": {
        "id": "sFFz1SmMHDLY"
      }
    },
    {
      "cell_type": "code",
      "source": [
        "#write an sql query with the variable 'sql'\n",
        "#Use and select the 'strftime()' method to format date in a readable way\n",
        "#Format the date values in '%Y-%m-%d' which represent the year, month and day\n",
        "#Take the 'date' column from the 'message' table in enron.db\n",
        "#use the 'count(*)' function to count all the rows in 'message' table and  \n",
        "#Group the count values by 'date'\n"
      ],
      "metadata": {
        "id": "1BZRBKPoHG0L"
      },
      "execution_count": null,
      "outputs": []
    },
    {
      "cell_type": "code",
      "source": [
        "### convert to dataframe:\n",
        "#use the panda library to read the above sql query and convert into dataframe\n",
        "#use the function 'read_sql_query()' from the panda module\n",
        "#as parameters, make use of SQL query's variable 'sql' and the variable 'conn' which makes database connection\n",
        "#save the 'read_sql_query()' function and its parameters to the variable 'messageperday_df'\n",
        "#show the contents of the Dataframe 'messageperday_df'"
      ],
      "metadata": {
        "id": "uj3gYNuDRuSQ"
      },
      "execution_count": null,
      "outputs": []
    },
    {
      "cell_type": "code",
      "source": [
        "### Plot line for email per day:\n",
        "#Use of 'plt.subplot()' function from matplotlib library whcih help to create figure and plot its axis\n",
        "#set the figure size (20,5) and save it as variable 'fig'\n",
        "#use seaborn library to create the line plot\n",
        "#use the function 'lineplot()' from the seaborn library\n",
        "#as parameters set 'x=date' and 'y=count'\n",
        "#use the variable 'messageperday_df' as data source\n",
        "#show the line plot by using the function 'show()' from the matplotlib library"
      ],
      "metadata": {
        "id": "s5WdG5Q8U7Rc"
      },
      "execution_count": null,
      "outputs": []
    },
    {
      "cell_type": "markdown",
      "source": [
        "Counting number of emails per week"
      ],
      "metadata": {
        "id": "lgPWsyNta32J"
      }
    },
    {
      "cell_type": "code",
      "source": [
        "#write an sql query with the variable 'sql'\n",
        "#Use and select the 'strftime()' method to format date in a readable way\n",
        "#Format the date values in '%Y-%m-%w' which represent the year, month and week\n",
        "#Take the 'date' column from the 'message' table in enron.db\n",
        "#use the 'count(*)' function to count all the rows in 'message' table and  \n",
        "#Group the count values by 'date'"
      ],
      "metadata": {
        "id": "__Xv09q5a7mq"
      },
      "execution_count": null,
      "outputs": []
    },
    {
      "cell_type": "code",
      "source": [
        "### convert to dataframe:\n",
        "#use the panda library to read the above sql query and convert into dataframe\n",
        "#use the function 'read_sql_query()' from the panda module\n",
        "#as parameters, make use of SQL query's variable 'sql' and the variable 'conn' which makes database connection\n",
        "#save the 'read_sql_query()' function and its parameters to the variable 'messageperweek_df'\n",
        "#show the contents of the Dataframe 'messageperweek_df'"
      ],
      "metadata": {
        "id": "AvW-ubCObgIG"
      },
      "execution_count": null,
      "outputs": []
    },
    {
      "cell_type": "code",
      "source": [
        "### Plot line for email per week:\n",
        "#Use of 'plt.subplot()' function from matplotlib library which help to create figure and plot its axis\n",
        "#set the figure size (20,5) and save it as variable 'fig'\n",
        "#use seaborn library to create the line plot\n",
        "#use the function 'lineplot()' from the seaborn library\n",
        "#as parameters set 'x=date' and 'y=count'\n",
        "#use the variable 'messageperweek_df' as data source\n",
        "#show the line plot by using the function 'show()' from the matplotlib library"
      ],
      "metadata": {
        "id": "qFlo6H6Pbp5V"
      },
      "execution_count": null,
      "outputs": []
    },
    {
      "cell_type": "markdown",
      "source": [
        "Counting number of emails per month"
      ],
      "metadata": {
        "id": "_63PsyPZcjq4"
      }
    },
    {
      "cell_type": "code",
      "source": [
        "#write an sql query with the variable 'sql'\n",
        "#Use and select the 'strftime()' method to format date in a readable way\n",
        "#Format the date values in '%Y-%m' which represent the year, month\n",
        "#Take the 'date' column from the 'message' table in enron.db\n",
        "#use the 'count(*)' function to count all the rows in 'message' table and  \n",
        "#Group the count values by 'date'"
      ],
      "metadata": {
        "id": "9ehoPk7icmzZ"
      },
      "execution_count": null,
      "outputs": []
    },
    {
      "cell_type": "code",
      "source": [
        "### convert to dataframe:\n",
        "#use the panda library to read the above sql query and convert into dataframe\n",
        "#use the function 'read_sql_query()' from the panda module\n",
        "#as parameters, make use of SQL query's variable 'sql' and the variable 'conn' which makes database connection\n",
        "#save the 'read_sql_query()' function and its parameters to the variable 'messagepermonth_df'\n",
        "#show the contents of the Dataframe 'messagepermonth_df'"
      ],
      "metadata": {
        "id": "04HGNP8PctJx"
      },
      "execution_count": null,
      "outputs": []
    },
    {
      "cell_type": "code",
      "source": [
        "### Plot line for email per month:\n",
        "#Use of 'plt.subplot()' function from matplotlib library which help to create figure and plot its axis\n",
        "#set the figure size (20,5) and save it as variable 'fig'\n",
        "#use seaborn library to create the line plot\n",
        "#use the function 'lineplot()' from the seaborn library\n",
        "#as parameters set 'x=date' and 'y=count'\n",
        "#use the variable 'messagepermonth_df' as data source\n",
        "#show the line plot by using the function 'show()' from the matplotlib library"
      ],
      "metadata": {
        "id": "njUoMJprcz1D"
      },
      "execution_count": null,
      "outputs": []
    },
    {
      "cell_type": "markdown",
      "source": [
        "# Top senders and recipients"
      ],
      "metadata": {
        "id": "_zKXQIlT76zi"
      }
    },
    {
      "cell_type": "markdown",
      "source": [
        "Top sender"
      ],
      "metadata": {
        "id": "fbi5ophe_oUQ"
      }
    },
    {
      "cell_type": "code",
      "source": [
        "#write an sql query with the variable 'sql_sender'\n",
        "#Select sender column from message table\n",
        "#use the 'count(*)' function to count all the rows in 'message' table \n",
        "#Group the count values by 'sender'\n",
        "#Order by count column\n",
        "#Sort the results in descending order\n",
        "#Limit the number of rows, example: LIMIT 15"
      ],
      "metadata": {
        "id": "zFL2yNfh7-Yl"
      },
      "execution_count": null,
      "outputs": []
    },
    {
      "cell_type": "code",
      "source": [
        "### convert to dataframe:\n",
        "#use the panda library to read the above sql query and convert into dataframe\n",
        "#use the function 'read_sql_query()' from the panda module\n",
        "#as parameters, make use of SQL query's variable 'sql_sender' and the variable 'conn' which makes database connection\n",
        "#save the 'read_sql_query()' function and its parameters to the variable 'top_sendr_df'\n",
        "#show the contents of the Dataframe 'top_sendr_df'"
      ],
      "metadata": {
        "id": "TxWzXS5z9v3s"
      },
      "execution_count": null,
      "outputs": []
    },
    {
      "cell_type": "code",
      "source": [
        "##barplot\n",
        "#using seaborn and matplotlib to perform visualisation of data\n",
        "#Save the dataframe name 'top_sendr_df' to variable 'data'\n",
        "#use the 'barplot()' function from the seaborn library\n",
        "#set parameter as 'x=\"count\"' and 'y=\"sender\"'\n",
        "#Use variable 'data' as data source\n",
        "#show the bar plot using 'show()' function from the matplotlib library"
      ],
      "metadata": {
        "id": "HkgfGBNR-JnJ"
      },
      "execution_count": null,
      "outputs": []
    },
    {
      "cell_type": "code",
      "source": [
        "Top recipient"
      ],
      "metadata": {
        "id": "iZ7SL9U5_qi2"
      },
      "execution_count": null,
      "outputs": []
    },
    {
      "cell_type": "code",
      "source": [
        "#write an sql query with the variable 'sql_recipt'\n",
        "#Select rvalue column from recipientinfo table\n",
        "#use the 'count(*)' function to count all the rows in 'recipientinfo' table \n",
        "#Group the count values by 'rvalue'\n",
        "#Order by count column\n",
        "#Sort the results in descending order\n",
        "#Limit the number of rows, example: LIMIT 15"
      ],
      "metadata": {
        "id": "XIsq0xnT_sy7"
      },
      "execution_count": null,
      "outputs": []
    },
    {
      "cell_type": "code",
      "source": [
        "### convert to dataframe:\n",
        "#use the panda library to read the above sql query and convert into dataframe\n",
        "#use the function 'read_sql_query()' from the panda module\n",
        "#as parameters, make use of SQL query's variable 'sql_recipt' and the variable 'conn' which makes database connection\n",
        "#save the 'read_sql_query()' function and its parameters to the variable 'top_recipt_df'\n",
        "#show the contents of the Dataframe 'top_recipt_df'"
      ],
      "metadata": {
        "id": "HbZ-7Wk9AAe3"
      },
      "execution_count": null,
      "outputs": []
    },
    {
      "cell_type": "code",
      "source": [
        "##barplot\n",
        "#using seaborn and matplotlib to perform visualisation of data\n",
        "#Save the dataframe name 'top_recipt_df' to variable 'data'\n",
        "#use the 'barplot()' function from the seaborn library\n",
        "#set parameter as 'x=\"count\"' and 'y=\"rvalue\"'\n",
        "#Use variable 'data' as data source\n",
        "#show the bar plot using 'show()' function from the matplotlib library"
      ],
      "metadata": {
        "id": "lz3XWOcBAWBt"
      },
      "execution_count": null,
      "outputs": []
    },
    {
      "cell_type": "markdown",
      "source": [
        "# Email Distribution by Recipient Type"
      ],
      "metadata": {
        "id": "j2PHbu85AmRu"
      }
    },
    {
      "cell_type": "code",
      "source": [
        "#write an sql query with the variable 'sql_recipients_type'\n",
        "#Select rtype column from recipientinfo table\n",
        "#use the 'count(*)' function to count all the rows in 'recipientinfo' table \n",
        "#Group the count values by 'rtype'\n",
        "#Order by rtype "
      ],
      "metadata": {
        "id": "U9SHMZNtAoPj"
      },
      "execution_count": null,
      "outputs": []
    },
    {
      "cell_type": "code",
      "source": [
        "### convert to dataframe:\n",
        "#use the panda library to read the above sql query and convert into dataframe\n",
        "#use the function 'read_sql_query()' from the panda module\n",
        "#as parameters, make use of SQL query's variable 'sql_recipients_type' and the variable 'conn' which makes database connection\n",
        "#save the 'read_sql_query()' function and its parameters to the variable 'recipt_type_df'\n",
        "#show the contents of the Dataframe 'recipt_type_df'"
      ],
      "metadata": {
        "id": "53eJ1hm2BqAS"
      },
      "execution_count": null,
      "outputs": []
    },
    {
      "cell_type": "code",
      "source": [
        "##pie chart\n",
        "#Use variable 'labels' and assign 'rtype' column from dataframe 'recipt_type_df' as values\n",
        "#Use variable 'values' and assign 'count' column from dataframe 'recipt_type_df' as values\n",
        "#Use matplotlib library to create the pie chart\n",
        "#use the function 'pie()' from the matplotlib library\n",
        "#set parameters to 'values', 'labels=labels', and 'autopct='%1.1f%%' - to print the values as percentages\n",
        "#Make use of 'title()' function from the matplotlib library and set the title as 'Email Distribution by Recipient Type'\n",
        "#show the piechart by using the function show() form the matplotlib library"
      ],
      "metadata": {
        "id": "5hl-XCFhCAyR"
      },
      "execution_count": null,
      "outputs": []
    },
    {
      "cell_type": "markdown",
      "source": [
        "#**Testing** "
      ],
      "metadata": {
        "id": "Kri3vlfMHHc_"
      }
    },
    {
      "cell_type": "markdown",
      "source": [
        "When writing the script codes and test them, various coding errors occured. Below are some errors that occured:\n",
        "\n",
        "\n",
        "\n",
        "*   Syntax error- This occured when the codes which were written does not follow the proper syntax rules. Example, there were missing brackets, commas in some places which as a result, the codes were not run successfully and a syntax error occured.\n",
        "\n",
        "    Resolving the syntax error- \n",
        "1. read the syntax error message\n",
        "2. Identify the line message mentioned in the erro message\n",
        "3. Check for missing characters\n",
        "4. Run code after correction   \n",
        "\n",
        "\n",
        "\n",
        "\n",
        "* Name error- It is where variable that were input were not defined. This might occured for several reasons. In my case, variables that were used were mispelled and thus the variable could not be recognised by python.\n",
        "\n",
        "    Resolving the Name error-\n",
        "1. Check for typos errors\n",
        "2. Correct the variable\n",
        "3. Run code after correction\n",
        "\n",
        "* Type Error- It is when calling a function that accept keyword arguments in the parameters and wrong parameters are used. Consequently, type error occured where 'kwargs' function were required.\n",
        "\n",
        "    Resolving Type Error-\n",
        "1. Pass the parameters that require 'kwargs' correctly\n",
        "2. Re-run the codes\n"
      ],
      "metadata": {
        "id": "masi_bxOJ3m8"
      }
    }
  ]
}