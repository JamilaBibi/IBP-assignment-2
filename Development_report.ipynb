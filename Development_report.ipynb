{
  "nbformat": 4,
  "nbformat_minor": 0,
  "metadata": {
    "colab": {
      "provenance": [],
      "authorship_tag": "ABX9TyPskZj92fQzrQFnC/Crfo5S",
      "include_colab_link": true
    },
    "kernelspec": {
      "name": "python3",
      "display_name": "Python 3"
    },
    "language_info": {
      "name": "python"
    }
  },
  "cells": [
    {
      "cell_type": "markdown",
      "metadata": {
        "id": "view-in-github",
        "colab_type": "text"
      },
      "source": [
        "<a href=\"https://colab.research.google.com/github/JamilaBibi/IBP-assignment-2/blob/main/Development_report.ipynb\" target=\"_parent\"><img src=\"https://colab.research.google.com/assets/colab-badge.svg\" alt=\"Open In Colab\"/></a>"
      ]
    },
    {
      "cell_type": "markdown",
      "source": [
        "# Downloading Enron Email Data"
      ],
      "metadata": {
        "id": "9J5BwQzPXuNq"
      }
    },
    {
      "cell_type": "code",
      "source": [
        "#using the wget! command to download the enron.db file\n",
        "#Set the output file as enron.db\n",
        "#using the URL of the enron.db"
      ],
      "metadata": {
        "id": "22Y7XR84YDze"
      },
      "execution_count": null,
      "outputs": []
    },
    {
      "cell_type": "markdown",
      "source": [
        "# Establish connection to the SQlite database"
      ],
      "metadata": {
        "id": "LxgnOdZSZyQ2"
      }
    },
    {
      "cell_type": "code",
      "source": [
        "#import sqlite3 module to connect with SQlite database"
      ],
      "metadata": {
        "id": "YruKAgY1Y5LX"
      },
      "execution_count": null,
      "outputs": []
    },
    {
      "cell_type": "code",
      "source": [
        "#Create a connection between enron.db and the SQlite module using sqlite.connect() function\n",
        "#Save the above connection in the variable \"conn\""
      ],
      "metadata": {
        "id": "kdItPfQOZWsi"
      },
      "execution_count": 2,
      "outputs": []
    },
    {
      "cell_type": "code",
      "source": [
        "# Create a cursor function for executing SQL queries on the database\n",
        "#Create a cursor function using the `conn.cursor()` method\n",
        "#Save the cursor function in the variable \"cur\""
      ],
      "metadata": {
        "id": "wVayK7BDa8R1"
      },
      "execution_count": null,
      "outputs": []
    },
    {
      "cell_type": "markdown",
      "source": [
        "# Check Schema of database"
      ],
      "metadata": {
        "id": "5KqQbz87d58i"
      }
    },
    {
      "cell_type": "code",
      "source": [
        "#Write an SQL query to retrive data from the enron.db database\n",
        "##\"SELECT name FROM sqlite_master WHERE type='table';\"\n",
        "#Execute the SQL query using a cursor function 'cur' \n",
        "#fetch all the results using cur.fetchall() method"
      ],
      "metadata": {
        "id": "s8C3ZzmLd-fI"
      },
      "execution_count": null,
      "outputs": []
    },
    {
      "cell_type": "markdown",
      "source": [
        "# Check Schema of tables"
      ],
      "metadata": {
        "id": "WqhxxiPwhjL0"
      }
    },
    {
      "cell_type": "code",
      "source": [
        "#Write an SQL query using the SQlite PRAGMA command\n",
        "#Insert table name \"employeelist\"/ \"message\"/ \"recipientinfo\"/\"referenceinfo\" into the PRAGMA command\n",
        "#Execute the SQL query using a cursor function 'cur'.\n",
        "#Fetch all the results using cur.fetchall() method."
      ],
      "metadata": {
        "id": "U_xYcdKjfwzq"
      },
      "execution_count": null,
      "outputs": []
    },
    {
      "cell_type": "markdown",
      "source": [
        "# Email Traffic Overtime"
      ],
      "metadata": {
        "id": "9G-xercou-l6"
      }
    },
    {
      "cell_type": "markdown",
      "source": [
        "Import Libraries:"
      ],
      "metadata": {
        "id": "Mot_9ciVxZMj"
      }
    },
    {
      "cell_type": "code",
      "source": [
        "#import pandas library to read SQL queries and convert to dataframe\n",
        "#represent pandas pandas as 'pd' as an alias"
      ],
      "metadata": {
        "id": "0gQDFAtRvERI"
      },
      "execution_count": null,
      "outputs": []
    },
    {
      "cell_type": "code",
      "source": [
        "#import seaborn library for more informative statistical visualisation/graphics\n",
        "#represent seaborn as 'sns' as an alias"
      ],
      "metadata": {
        "id": "crgQzwDbyFL3"
      },
      "execution_count": null,
      "outputs": []
    },
    {
      "cell_type": "code",
      "source": [
        "#Import the `matplotlib.pyplot` module to generate visualisation\n",
        "#give an alias 'plt' to the `matplotlib.pyplot` module"
      ],
      "metadata": {
        "id": "nSrR25J0zPnJ"
      },
      "execution_count": null,
      "outputs": []
    },
    {
      "cell_type": "markdown",
      "source": [
        "Check whether the data column in Message contain null values"
      ],
      "metadata": {
        "id": "E5qoo-Db1Euq"
      }
    },
    {
      "cell_type": "code",
      "source": [
        "#write an sql query which include the selection of 'date' column from 'message' table and store it in variable sql"
      ],
      "metadata": {
        "id": "bgY3j_nh1RUt"
      },
      "execution_count": null,
      "outputs": []
    },
    {
      "cell_type": "markdown",
      "source": [
        "convert to dataframe"
      ],
      "metadata": {
        "id": "qYkZkZ3v2iGS"
      }
    },
    {
      "cell_type": "code",
      "source": [
        "#import pandas library to read sql query\n",
        "#use the function 'read_sql_query()' from the pandas module\n",
        "#as parameters, make use of SQL query's variable 'sql' and the variable 'conn' which makes database connection \n",
        "#save the 'read_sql_query()' function and its parameters to the variable 'message_df'\n",
        "#print the contents of the Dataframe 'message_df'"
      ],
      "metadata": {
        "id": "lrEyVnqp1y1S"
      },
      "execution_count": null,
      "outputs": []
    }
  ]
}